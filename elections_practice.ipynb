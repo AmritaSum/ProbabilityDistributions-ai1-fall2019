{
  "nbformat": 4,
  "nbformat_minor": 0,
  "metadata": {
    "colab": {
      "name": "Untitled8.ipynb",
      "provenance": [],
      "include_colab_link": true
    },
    "kernelspec": {
      "name": "python3",
      "display_name": "Python 3"
    }
  },
  "cells": [
    {
      "cell_type": "markdown",
      "metadata": {
        "id": "view-in-github",
        "colab_type": "text"
      },
      "source": [
        "<a href=\"https://colab.research.google.com/github/AmritaSum/ProbabilityDistributions-ai1-fall2019/blob/master/elections_practice.ipynb\" target=\"_parent\"><img src=\"https://colab.research.google.com/assets/colab-badge.svg\" alt=\"Open In Colab\"/></a>"
      ]
    },
    {
      "cell_type": "code",
      "metadata": {
        "id": "y7iBhpyA7PgN",
        "colab_type": "code",
        "colab": {
          "base_uri": "https://localhost:8080/",
          "height": 218
        },
        "outputId": "ffce9bea-5cb7-46e3-eaa5-ccf5bd1f4bb3"
      },
      "source": [
        "!pip install seaborn"
      ],
      "execution_count": 1,
      "outputs": [
        {
          "output_type": "stream",
          "text": [
            "Requirement already satisfied: seaborn in /usr/local/lib/python3.6/dist-packages (0.9.0)\n",
            "Requirement already satisfied: pandas>=0.15.2 in /usr/local/lib/python3.6/dist-packages (from seaborn) (0.24.2)\n",
            "Requirement already satisfied: matplotlib>=1.4.3 in /usr/local/lib/python3.6/dist-packages (from seaborn) (3.0.3)\n",
            "Requirement already satisfied: numpy>=1.9.3 in /usr/local/lib/python3.6/dist-packages (from seaborn) (1.16.5)\n",
            "Requirement already satisfied: scipy>=0.14.0 in /usr/local/lib/python3.6/dist-packages (from seaborn) (1.3.1)\n",
            "Requirement already satisfied: pytz>=2011k in /usr/local/lib/python3.6/dist-packages (from pandas>=0.15.2->seaborn) (2018.9)\n",
            "Requirement already satisfied: python-dateutil>=2.5.0 in /usr/local/lib/python3.6/dist-packages (from pandas>=0.15.2->seaborn) (2.5.3)\n",
            "Requirement already satisfied: kiwisolver>=1.0.1 in /usr/local/lib/python3.6/dist-packages (from matplotlib>=1.4.3->seaborn) (1.1.0)\n",
            "Requirement already satisfied: cycler>=0.10 in /usr/local/lib/python3.6/dist-packages (from matplotlib>=1.4.3->seaborn) (0.10.0)\n",
            "Requirement already satisfied: pyparsing!=2.0.4,!=2.1.2,!=2.1.6,>=2.0.1 in /usr/local/lib/python3.6/dist-packages (from matplotlib>=1.4.3->seaborn) (2.4.2)\n",
            "Requirement already satisfied: six>=1.5 in /usr/local/lib/python3.6/dist-packages (from python-dateutil>=2.5.0->pandas>=0.15.2->seaborn) (1.12.0)\n",
            "Requirement already satisfied: setuptools in /usr/local/lib/python3.6/dist-packages (from kiwisolver>=1.0.1->matplotlib>=1.4.3->seaborn) (41.2.0)\n"
          ],
          "name": "stdout"
        }
      ]
    },
    {
      "cell_type": "code",
      "metadata": {
        "id": "XPzUMBFt7qto",
        "colab_type": "code",
        "colab": {
          "base_uri": "https://localhost:8080/",
          "height": 171
        },
        "outputId": "7a9bb1e8-4c33-4664-b27f-978b80a12036"
      },
      "source": [
        "%matplotlib inline\n",
        "import numpy as np\n",
        "import scipy as sp\n",
        "import matplotlib as mpl\n",
        "import matplotlib.cm as cm\n",
        "import matplotlib.pyplot as plt\n",
        "import pandas as pd\n",
        "import seaborn.apionly as sns # conda install seaborn or pip install seaborn"
      ],
      "execution_count": 2,
      "outputs": [
        {
          "output_type": "stream",
          "text": [
            "/usr/local/lib/python3.6/dist-packages/matplotlib/__init__.py:855: MatplotlibDeprecationWarning: \n",
            "examples.directory is deprecated; in the future, examples will be found relative to the 'datapath' directory.\n",
            "  \"found relative to the 'datapath' directory.\".format(key))\n",
            "/usr/local/lib/python3.6/dist-packages/matplotlib/__init__.py:846: MatplotlibDeprecationWarning: \n",
            "The text.latex.unicode rcparam was deprecated in Matplotlib 2.2 and will be removed in 3.1.\n",
            "  \"2.2\", name=key, obj_type=\"rcparam\", addendum=addendum)\n",
            "/usr/local/lib/python3.6/dist-packages/seaborn/apionly.py:9: UserWarning: As seaborn no longer sets a default style on import, the seaborn.apionly module is deprecated. It will be removed in a future version.\n",
            "  warnings.warn(msg, UserWarning)\n"
          ],
          "name": "stderr"
        }
      ]
    },
    {
      "cell_type": "code",
      "metadata": {
        "id": "chBUfm2S8ILm",
        "colab_type": "code",
        "colab": {}
      },
      "source": [
        ""
      ],
      "execution_count": 0,
      "outputs": []
    },
    {
      "cell_type": "code",
      "metadata": {
        "id": "-uBgAxb17_qw",
        "colab_type": "code",
        "colab": {}
      },
      "source": [
        "electoral_votes = pd.read_csv('https://raw.githubusercontent.com/AmritaSum/ProbabilityDistributions-ai1-fall2019/master/data/electoral_votes.csv')\n"
      ],
      "execution_count": 0,
      "outputs": []
    },
    {
      "cell_type": "code",
      "metadata": {
        "id": "Cut7F1B49C-J",
        "colab_type": "code",
        "colab": {}
      },
      "source": [
        "electoral_votes = electoral_votes.set_index('State')\n"
      ],
      "execution_count": 0,
      "outputs": []
    },
    {
      "cell_type": "code",
      "metadata": {
        "id": "ckW50Iim_38A",
        "colab_type": "code",
        "colab": {
          "base_uri": "https://localhost:8080/",
          "height": 225
        },
        "outputId": "fe3d53d5-2ca9-46ac-c853-ac230d24711e"
      },
      "source": [
        "electoral_votes.head()"
      ],
      "execution_count": 25,
      "outputs": [
        {
          "output_type": "execute_result",
          "data": {
            "text/html": [
              "<div>\n",
              "<style scoped>\n",
              "    .dataframe tbody tr th:only-of-type {\n",
              "        vertical-align: middle;\n",
              "    }\n",
              "\n",
              "    .dataframe tbody tr th {\n",
              "        vertical-align: top;\n",
              "    }\n",
              "\n",
              "    .dataframe thead th {\n",
              "        text-align: right;\n",
              "    }\n",
              "</style>\n",
              "<table border=\"1\" class=\"dataframe\">\n",
              "  <thead>\n",
              "    <tr style=\"text-align: right;\">\n",
              "      <th></th>\n",
              "      <th>Votes</th>\n",
              "    </tr>\n",
              "    <tr>\n",
              "      <th>State</th>\n",
              "      <th></th>\n",
              "    </tr>\n",
              "  </thead>\n",
              "  <tbody>\n",
              "    <tr>\n",
              "      <th>California</th>\n",
              "      <td>55</td>\n",
              "    </tr>\n",
              "    <tr>\n",
              "      <th>Texas</th>\n",
              "      <td>38</td>\n",
              "    </tr>\n",
              "    <tr>\n",
              "      <th>New York</th>\n",
              "      <td>29</td>\n",
              "    </tr>\n",
              "    <tr>\n",
              "      <th>Florida</th>\n",
              "      <td>29</td>\n",
              "    </tr>\n",
              "    <tr>\n",
              "      <th>Illinois</th>\n",
              "      <td>20</td>\n",
              "    </tr>\n",
              "  </tbody>\n",
              "</table>\n",
              "</div>"
            ],
            "text/plain": [
              "            Votes\n",
              "State            \n",
              "California     55\n",
              "Texas          38\n",
              "New York       29\n",
              "Florida        29\n",
              "Illinois       20"
            ]
          },
          "metadata": {
            "tags": []
          },
          "execution_count": 25
        }
      ]
    },
    {
      "cell_type": "code",
      "metadata": {
        "id": "f0F5ViJG-WGn",
        "colab_type": "code",
        "colab": {}
      },
      "source": [
        "predictwise=pd.read_csv('https://raw.githubusercontent.com/AmritaSum/ProbabilityDistributions-ai1-fall2019/master/data/predictwise.csv').set_index('States')"
      ],
      "execution_count": 0,
      "outputs": []
    },
    {
      "cell_type": "code",
      "metadata": {
        "id": "vaugn9B__qev",
        "colab_type": "code",
        "colab": {
          "base_uri": "https://localhost:8080/",
          "height": 225
        },
        "outputId": "27b97e0f-408b-488d-ac99-47ec6e351873"
      },
      "source": [
        "predictwise.head()"
      ],
      "execution_count": 24,
      "outputs": [
        {
          "output_type": "execute_result",
          "data": {
            "text/html": [
              "<div>\n",
              "<style scoped>\n",
              "    .dataframe tbody tr th:only-of-type {\n",
              "        vertical-align: middle;\n",
              "    }\n",
              "\n",
              "    .dataframe tbody tr th {\n",
              "        vertical-align: top;\n",
              "    }\n",
              "\n",
              "    .dataframe thead th {\n",
              "        text-align: right;\n",
              "    }\n",
              "</style>\n",
              "<table border=\"1\" class=\"dataframe\">\n",
              "  <thead>\n",
              "    <tr style=\"text-align: right;\">\n",
              "      <th></th>\n",
              "      <th>Obama</th>\n",
              "      <th>Romney</th>\n",
              "      <th>Votes</th>\n",
              "    </tr>\n",
              "    <tr>\n",
              "      <th>States</th>\n",
              "      <th></th>\n",
              "      <th></th>\n",
              "      <th></th>\n",
              "    </tr>\n",
              "  </thead>\n",
              "  <tbody>\n",
              "    <tr>\n",
              "      <th>Alabama</th>\n",
              "      <td>0.000</td>\n",
              "      <td>1.000</td>\n",
              "      <td>9</td>\n",
              "    </tr>\n",
              "    <tr>\n",
              "      <th>Alaska</th>\n",
              "      <td>0.000</td>\n",
              "      <td>1.000</td>\n",
              "      <td>3</td>\n",
              "    </tr>\n",
              "    <tr>\n",
              "      <th>Arizona</th>\n",
              "      <td>0.062</td>\n",
              "      <td>0.938</td>\n",
              "      <td>11</td>\n",
              "    </tr>\n",
              "    <tr>\n",
              "      <th>Arkansas</th>\n",
              "      <td>0.000</td>\n",
              "      <td>1.000</td>\n",
              "      <td>6</td>\n",
              "    </tr>\n",
              "    <tr>\n",
              "      <th>California</th>\n",
              "      <td>1.000</td>\n",
              "      <td>0.000</td>\n",
              "      <td>55</td>\n",
              "    </tr>\n",
              "  </tbody>\n",
              "</table>\n",
              "</div>"
            ],
            "text/plain": [
              "            Obama  Romney  Votes\n",
              "States                          \n",
              "Alabama     0.000   1.000      9\n",
              "Alaska      0.000   1.000      3\n",
              "Arizona     0.062   0.938     11\n",
              "Arkansas    0.000   1.000      6\n",
              "California  1.000   0.000     55"
            ]
          },
          "metadata": {
            "tags": []
          },
          "execution_count": 24
        }
      ]
    },
    {
      "cell_type": "code",
      "metadata": {
        "id": "zzbhm679BrFi",
        "colab_type": "code",
        "colab": {}
      },
      "source": [
        "simulations=np.random.uniform(size=(51,100))\n"
      ],
      "execution_count": 0,
      "outputs": []
    },
    {
      "cell_type": "code",
      "metadata": {
        "id": "SPxvG89yH9WY",
        "colab_type": "code",
        "colab": {
          "base_uri": "https://localhost:8080/",
          "height": 34
        },
        "outputId": "83907246-d956-4469-c843-6839ffb54cce"
      },
      "source": [
        "type(simulations)"
      ],
      "execution_count": 51,
      "outputs": [
        {
          "output_type": "execute_result",
          "data": {
            "text/plain": [
              "numpy.ndarray"
            ]
          },
          "metadata": {
            "tags": []
          },
          "execution_count": 51
        }
      ]
    },
    {
      "cell_type": "code",
      "metadata": {
        "id": "i26pm0cjIVgS",
        "colab_type": "code",
        "colab": {
          "base_uri": "https://localhost:8080/",
          "height": 34
        },
        "outputId": "d1e0ab4b-f189-42e2-ce05-ac71b2c24cd2"
      },
      "source": [
        "simulations.shape\n"
      ],
      "execution_count": 53,
      "outputs": [
        {
          "output_type": "execute_result",
          "data": {
            "text/plain": [
              "(51, 100)"
            ]
          },
          "metadata": {
            "tags": []
          },
          "execution_count": 53
        }
      ]
    },
    {
      "cell_type": "code",
      "metadata": {
        "id": "WfARK89nIt0E",
        "colab_type": "code",
        "colab": {
          "base_uri": "https://localhost:8080/",
          "height": 134
        },
        "outputId": "a88e8325-d8d0-4313-fe5d-44691e5731ce"
      },
      "source": [
        "print(simulations)"
      ],
      "execution_count": 54,
      "outputs": [
        {
          "output_type": "stream",
          "text": [
            "[[0.02687044 0.56030379 0.4444013  ... 0.26790211 0.92674185 0.94648201]\n",
            " [0.92113811 0.14155851 0.7262955  ... 0.20262859 0.3222474  0.6325801 ]\n",
            " [0.16040229 0.11381975 0.49528805 ... 0.73106789 0.07025218 0.20927759]\n",
            " ...\n",
            " [0.92409887 0.16085614 0.77982297 ... 0.78817124 0.07733541 0.21907781]\n",
            " [0.19541535 0.87497495 0.20976307 ... 0.61118124 0.12855643 0.75640075]\n",
            " [0.16377889 0.29897351 0.0180187  ... 0.33640695 0.11392669 0.91658034]]\n"
          ],
          "name": "stdout"
        }
      ]
    },
    {
      "cell_type": "code",
      "metadata": {
        "id": "JsyxBjmRCJ72",
        "colab_type": "code",
        "colab": {
          "base_uri": "https://localhost:8080/",
          "height": 1000
        },
        "outputId": "a53278ef-39de-4e21-b71c-0e59d7a37d43"
      },
      "source": [
        "plt.hist(simulations)"
      ],
      "execution_count": 39,
      "outputs": [
        {
          "output_type": "execute_result",
          "data": {
            "text/plain": [
              "([array([5., 5., 6., 8., 5., 3., 4., 5., 3., 7.]),\n",
              "  array([10.,  4.,  3.,  4.,  4.,  4.,  4.,  8.,  8.,  2.]),\n",
              "  array([9., 7., 7., 5., 4., 3., 6., 5., 3., 2.]),\n",
              "  array([4., 2., 8., 4., 7., 6., 7., 5., 3., 5.]),\n",
              "  array([5., 6., 6., 4., 1., 3., 8., 7., 7., 4.]),\n",
              "  array([9., 4., 8., 4., 4., 3., 5., 6., 2., 6.]),\n",
              "  array([5., 3., 8., 4., 5., 4., 7., 4., 5., 6.]),\n",
              "  array([2., 7., 6., 4., 3., 2., 8., 5., 5., 9.]),\n",
              "  array([8., 4., 4., 6., 6., 7., 6., 2., 3., 5.]),\n",
              "  array([3., 8., 8., 4., 3., 8., 7., 4., 3., 3.]),\n",
              "  array([10.,  6.,  4.,  6.,  5.,  8.,  1.,  5.,  3.,  3.]),\n",
              "  array([4., 5., 3., 8., 5., 8., 5., 7., 3., 3.]),\n",
              "  array([2., 2., 6., 6., 5., 6., 7., 8., 4., 5.]),\n",
              "  array([ 4.,  2.,  8.,  2.,  1.,  9., 10.,  5.,  7.,  3.]),\n",
              "  array([6., 7., 4., 3., 7., 3., 5., 9., 3., 4.]),\n",
              "  array([3., 3., 5., 8., 5., 5., 7., 9., 1., 5.]),\n",
              "  array([2., 6., 6., 5., 4., 8., 7., 4., 2., 7.]),\n",
              "  array([8., 6., 5., 6., 5., 7., 2., 3., 5., 4.]),\n",
              "  array([ 3., 12.,  5.,  7.,  5.,  7.,  1.,  4.,  3.,  4.]),\n",
              "  array([2., 3., 7., 8., 2., 5., 8., 5., 6., 5.]),\n",
              "  array([3., 7., 6., 5., 3., 7., 2., 5., 5., 8.]),\n",
              "  array([ 5.,  3.,  9.,  2.,  5.,  1.,  4.,  9., 10.,  3.]),\n",
              "  array([6., 5., 5., 3., 5., 6., 2., 8., 7., 4.]),\n",
              "  array([4., 4., 7., 7., 6., 1., 2., 7., 6., 7.]),\n",
              "  array([5., 5., 4., 6., 4., 5., 4., 6., 4., 8.]),\n",
              "  array([7., 5., 7., 4., 4., 4., 9., 2., 5., 4.]),\n",
              "  array([9., 3., 2., 9., 7., 5., 3., 4., 4., 5.]),\n",
              "  array([ 4.,  6.,  5., 10.,  3.,  4.,  4.,  7.,  1.,  7.]),\n",
              "  array([ 6.,  2.,  3., 10.,  3.,  1.,  7.,  7.,  6.,  6.]),\n",
              "  array([ 7.,  3.,  5.,  2.,  2.,  5., 10.,  5.,  8.,  4.]),\n",
              "  array([ 5.,  6.,  2.,  4.,  7.,  1., 11.,  5.,  3.,  7.]),\n",
              "  array([4., 6., 4., 9., 5., 6., 5., 4., 1., 7.]),\n",
              "  array([7., 5., 4., 6., 2., 8., 4., 5., 3., 7.]),\n",
              "  array([5., 8., 5., 9., 5., 4., 1., 6., 3., 5.]),\n",
              "  array([4., 4., 6., 2., 6., 4., 6., 7., 7., 5.]),\n",
              "  array([7., 5., 2., 3., 2., 4., 5., 8., 6., 9.]),\n",
              "  array([8., 6., 6., 4., 5., 2., 6., 7., 4., 3.]),\n",
              "  array([ 5.,  4.,  5.,  3.,  4.,  3.,  7., 11.,  5.,  4.]),\n",
              "  array([7., 4., 7., 4., 3., 3., 4., 9., 6., 4.]),\n",
              "  array([4., 8., 4., 5., 5., 7., 5., 3., 6., 4.]),\n",
              "  array([10.,  4.,  4.,  4.,  9.,  8.,  3.,  3.,  4.,  2.]),\n",
              "  array([9., 2., 2., 7., 5., 7., 4., 7., 7., 1.]),\n",
              "  array([ 3.,  5.,  6.,  3.,  3.,  3.,  5.,  7.,  6., 10.]),\n",
              "  array([5., 9., 5., 4., 6., 4., 6., 3., 5., 4.]),\n",
              "  array([2., 3., 9., 2., 7., 4., 9., 6., 7., 2.]),\n",
              "  array([5., 5., 4., 5., 4., 5., 7., 4., 8., 4.]),\n",
              "  array([6., 4., 2., 7., 7., 5., 8., 6., 5., 1.]),\n",
              "  array([ 4.,  5.,  4.,  6.,  6., 10.,  4.,  5.,  3.,  4.]),\n",
              "  array([10.,  4.,  7.,  4.,  5.,  5.,  5.,  3.,  3.,  5.]),\n",
              "  array([ 5.,  6., 13.,  2.,  3.,  3.,  3.,  4.,  1., 11.]),\n",
              "  array([1., 4., 3., 4., 7., 4., 7., 6., 7., 8.]),\n",
              "  array([ 6.,  2.,  5.,  9.,  6.,  3.,  2.,  5., 10.,  3.]),\n",
              "  array([3., 6., 8., 5., 5., 8., 3., 4., 4., 5.]),\n",
              "  array([2., 8., 4., 7., 4., 7., 5., 4., 5., 5.]),\n",
              "  array([ 6.,  2.,  5.,  3.,  5.,  9.,  3.,  6.,  2., 10.]),\n",
              "  array([1., 9., 5., 9., 6., 5., 6., 3., 3., 4.]),\n",
              "  array([4., 8., 4., 8., 6., 1., 4., 6., 4., 6.]),\n",
              "  array([3., 6., 7., 6., 1., 7., 4., 3., 8., 6.]),\n",
              "  array([ 5.,  5.,  2.,  3.,  7., 10.,  5.,  6.,  2.,  6.]),\n",
              "  array([ 3.,  3., 10.,  6.,  6.,  3.,  4.,  4.,  4.,  8.]),\n",
              "  array([6., 3., 8., 5., 2., 4., 6., 4., 8., 5.]),\n",
              "  array([7., 5., 5., 7., 4., 5., 1., 8., 5., 4.]),\n",
              "  array([5., 5., 3., 4., 8., 5., 8., 5., 3., 5.]),\n",
              "  array([7., 5., 6., 5., 7., 2., 7., 4., 3., 5.]),\n",
              "  array([3., 4., 4., 4., 6., 6., 5., 5., 8., 6.]),\n",
              "  array([5., 5., 7., 4., 6., 7., 4., 9., 1., 3.]),\n",
              "  array([ 6.,  6.,  2.,  5.,  4., 10.,  6.,  4.,  3.,  5.]),\n",
              "  array([5., 5., 7., 9., 4., 7., 2., 5., 3., 4.]),\n",
              "  array([2., 8., 7., 7., 6., 6., 6., 2., 4., 3.]),\n",
              "  array([ 4.,  7.,  3., 10.,  5.,  2.,  5.,  6.,  5.,  4.]),\n",
              "  array([8., 3., 7., 8., 7., 4., 7., 2., 3., 2.]),\n",
              "  array([4., 5., 5., 4., 8., 4., 5., 3., 9., 4.]),\n",
              "  array([6., 2., 8., 6., 1., 3., 7., 5., 7., 6.]),\n",
              "  array([7., 4., 7., 6., 3., 3., 3., 8., 5., 5.]),\n",
              "  array([5., 5., 5., 5., 4., 9., 5., 4., 3., 6.]),\n",
              "  array([ 4.,  5.,  1.,  4.,  9.,  3.,  4.,  7., 10.,  4.]),\n",
              "  array([5., 2., 5., 7., 2., 4., 3., 6., 8., 9.]),\n",
              "  array([ 5.,  5.,  4.,  7.,  1.,  5.,  3.,  5., 10.,  6.]),\n",
              "  array([6., 1., 5., 8., 8., 5., 2., 1., 9., 6.]),\n",
              "  array([ 4.,  4.,  2.,  6.,  1.,  5., 11.,  2.,  6., 10.]),\n",
              "  array([4., 2., 5., 8., 9., 3., 3., 3., 6., 8.]),\n",
              "  array([3., 8., 6., 5., 4., 8., 4., 1., 7., 5.]),\n",
              "  array([8., 1., 2., 9., 4., 7., 5., 6., 4., 5.]),\n",
              "  array([ 4.,  5.,  3.,  5., 10.,  2.,  6.,  4.,  6.,  6.]),\n",
              "  array([ 5.,  4., 11.,  3.,  5.,  7.,  5.,  2.,  3.,  6.]),\n",
              "  array([9., 5., 4., 3., 2., 8., 3., 5., 5., 7.]),\n",
              "  array([3., 4., 5., 6., 4., 5., 8., 7., 6., 3.]),\n",
              "  array([5., 6., 9., 7., 6., 5., 1., 4., 5., 3.]),\n",
              "  array([ 6.,  6., 11.,  5.,  5.,  3.,  4.,  4.,  4.,  3.]),\n",
              "  array([4., 5., 6., 7., 8., 4., 3., 3., 7., 4.]),\n",
              "  array([2., 5., 8., 6., 2., 7., 5., 6., 5., 5.]),\n",
              "  array([ 2.,  5.,  2.,  3., 11.,  6.,  9.,  3.,  4.,  6.]),\n",
              "  array([ 8., 10.,  2.,  2.,  6.,  3.,  1.,  9.,  3.,  7.]),\n",
              "  array([5., 4., 2., 3., 6., 2., 7., 7., 7., 8.]),\n",
              "  array([8., 3., 4., 3., 8., 3., 4., 6., 5., 7.]),\n",
              "  array([ 2.,  3.,  2.,  7.,  4.,  8.,  9.,  3.,  2., 11.]),\n",
              "  array([ 5.,  4.,  5.,  1.,  4.,  8.,  1., 10.,  4.,  9.]),\n",
              "  array([3., 8., 6., 7., 3., 5., 4., 7., 2., 6.]),\n",
              "  array([ 4.,  3.,  5.,  6.,  1.,  4.,  5.,  6., 11.,  6.]),\n",
              "  array([10.,  4.,  2.,  7.,  7.,  5.,  5.,  2.,  6.,  3.])],\n",
              " array([3.63681390e-04, 1.00321020e-01, 2.00278359e-01, 3.00235698e-01,\n",
              "        4.00193037e-01, 5.00150376e-01, 6.00107715e-01, 7.00065054e-01,\n",
              "        8.00022393e-01, 8.99979732e-01, 9.99937071e-01]),\n",
              " <a list of 100 Lists of Patches objects>)"
            ]
          },
          "metadata": {
            "tags": []
          },
          "execution_count": 39
        },
        {
          "output_type": "display_data",
          "data": {
            "image/png": "[encoded data removed]",
            "text/plain": [
              "<Figure size 432x288 with 1 Axes>"
            ]
          },
          "metadata": {
            "tags": []
          }
        }
      ]
    },
    {
      "cell_type": "code",
      "metadata": {
        "id": "zvI-CxWsCooG",
        "colab_type": "code",
        "colab": {
          "base_uri": "https://localhost:8080/",
          "height": 34
        },
        "outputId": "8a386892-7226-4656-d59f-f1d2ec41e2a8"
      },
      "source": [
        "predictwise.Obama.values.shape"
      ],
      "execution_count": 34,
      "outputs": [
        {
          "output_type": "execute_result",
          "data": {
            "text/plain": [
              "(51,)"
            ]
          },
          "metadata": {
            "tags": []
          },
          "execution_count": 34
        }
      ]
    },
    {
      "cell_type": "code",
      "metadata": {
        "id": "C1dJ3_qLCuo3",
        "colab_type": "code",
        "colab": {}
      },
      "source": [
        "results"
      ],
      "execution_count": 0,
      "outputs": []
    }
  ]
}